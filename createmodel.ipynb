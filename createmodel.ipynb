!pip install tensorflow-gpu==1.15.3
!pip install keras==1.2.2
!pip install keras.preprocessing
